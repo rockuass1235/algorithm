{
 "cells": [
  {
   "cell_type": "markdown",
   "metadata": {},
   "source": [
    "# 8皇后\n",
    "\n",
    "8皇后是一個非常常見的遍歷問題，如何擺放8個皇后又不會互相衝突。\n",
    "\n",
    "這是一個try and error的問題，設計一個回溯演算法嘗試所有的可能，當該可能失敗就回到上一步繼續嘗試...\n",
    "\n",
    "我們也可以將問題轉換成如何最快速走到樹的底部，使用DFS或者遞迴的方式搜索答案。\n",
    "\n",
    "這會比BFS來的快許多(BFS會循序找出每個無法走到底部的路線，剩下的就是可以到底部的路線)\n",
    "\n",
    "\n",
    "\n",
    "我們將問題分成3個步驟:\n",
    "\n",
    "```\n",
    "1. 在row標記落子位置的下一個位置以後中，找出不會違反規則的落子點\n",
    "2. 找到後標記落子進入下一個row\n",
    "3. 如果row中找不到任何不會違反規則的點，則將該row使用狀態清空並回溯到上一個row\n",
    "```\n",
    "\n",
    "\n",
    "而它的停止條件就是當一直無法滿足條件回溯到原點(搜尋失敗)，或者走完所有的row(成功)\n",
    "\n",
    "\n",
    "## 8皇后問題形變\n",
    "\n",
    "如果說我們規定**其中幾個皇后一定要下在某些位置**，我們是否能實現找出滿足條件的解答呢?\n",
    "\n",
    "這其實是一個簡單的改變，因為鎖死某些位置也就是說變化的可能少了，我們只要只嘗試 **\"可改變\"的row** 部分就可以了\n",
    "\n",
    "也就是說遇到被blocked的row直接無視跳過就好了。\n",
    "\n",
    "如果以tree結構來說，就是該節點只有一條通路 直接row++ 、 row--直接通過就好。\n",
    "\n",
    "\n",
    "\n",
    "\n"
   ]
  },
  {
   "cell_type": "code",
   "execution_count": 1,
   "metadata": {},
   "outputs": [],
   "source": [
    "SIZE = 8\n",
    "queens = [-1]*SIZE\n",
    "blocked = [False]*SIZE\n",
    "\n",
    "queens[2] = 1\n",
    "blocked[2] = True\n",
    "\n",
    "queens[3] = 6\n",
    "blocked[3] = True\n",
    "\n",
    "\n",
    "def check(row, col):\n",
    "    \n",
    "    for i in range(SIZE):\n",
    "        \n",
    "        if i == row:\n",
    "            continue\n",
    "        \n",
    "        if queens[i] >= 0 and queens[i] in [col+i-row, col, col-i+row]:\n",
    "            return False\n",
    "            \n",
    "        \n",
    "    return True\n",
    "\n",
    "def recommend(row):\n",
    "    \n",
    "    for col in range(queens[row]+1, SIZE): # 從上一次+1後的col繼續搜索滿足條件的col\n",
    "        if check(row, col):\n",
    "            return col\n",
    "    return -1\n",
    "\n",
    "\n",
    "\n"
   ]
  },
  {
   "cell_type": "code",
   "execution_count": 2,
   "metadata": {},
   "outputs": [
    {
     "name": "stdout",
     "output_type": "stream",
     "text": [
      "[2, 5, 1, 6, 0, 3, 7, 4]\n"
     ]
    }
   ],
   "source": [
    "row = 0\n",
    "while blocked[row]: row += 1\n",
    "\n",
    "    \n",
    "while 0 <= row < SIZE:\n",
    "    col = recommend(row)\n",
    "    \n",
    "    if col < 0:\n",
    "        queens[row] = -1 # 清除原本該row內的資料\n",
    "        row -= 1 # 回到上一個row\n",
    "        while row >= 0 and blocked[row]: row -= 1\n",
    "        \n",
    "    else:\n",
    "        queens[row] = col # 設定皇后\n",
    "        row += 1 # 進入下一個row\n",
    "        while row < SIZE and blocked[row]: row += 1\n",
    "        \n",
    "\n",
    "print(queens)"
   ]
  }
 ],
 "metadata": {
  "kernelspec": {
   "display_name": "Python 3",
   "language": "python",
   "name": "python3"
  },
  "language_info": {
   "codemirror_mode": {
    "name": "ipython",
    "version": 3
   },
   "file_extension": ".py",
   "mimetype": "text/x-python",
   "name": "python",
   "nbconvert_exporter": "python",
   "pygments_lexer": "ipython3",
   "version": "3.8.3"
  }
 },
 "nbformat": 4,
 "nbformat_minor": 4
}
