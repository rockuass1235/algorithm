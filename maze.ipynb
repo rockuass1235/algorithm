{
 "cells": [
  {
   "cell_type": "code",
   "execution_count": 1,
   "metadata": {},
   "outputs": [],
   "source": [
    "# 地圖初始墻值設 1\n",
    "# 可以走的路設 0\n",
    "# 將走過路設 2\n",
    "# 走過確認周圍無可走的路(死路)設 3\n",
    "\n",
    "\n",
    "def maze_runner(maze, start, end):\n",
    "\n",
    "    stk = [start]  # stack\n",
    "    maze[start] = 2 # 標記起點走過了\n",
    "    \n",
    "    \n",
    "    # 簡單提供一個點可以走的方向，按照: 下、左、右、上的順序\n",
    "    def _direction(p):\n",
    "        i, j = p \n",
    "        return (i+1, j), (i, j-1), (i, j+1), (i-1, j)\n",
    "       \n",
    "    \n",
    "    # 開始地回找路\n",
    "    while len(stk) > 0:\n",
    "        \n",
    "        if stk[-1] == end: # 若找到終點直接停止\n",
    "            return True\n",
    "        \n",
    "        for p in _direction(stk[-1]):\n",
    "            try:\n",
    "                if maze[p] == 0:   # 如果為可走的點則加入stack，並標記走過\n",
    "                    stk.append(p)\n",
    "                    maze[p] = 2\n",
    "                    break\n",
    "            except IndexError:\n",
    "                pass\n",
    "        else:\n",
    "            maze[stk[-1]] = 3  # 若周圍圍可走的點標記該點為死點\n",
    "            stk.pop() # 回溯上一步\n",
    "    \n",
    "    return False\n",
    "        \n",
    "        \n",
    "        \n",
    "    \n",
    "    "
   ]
  },
  {
   "cell_type": "code",
   "execution_count": 2,
   "metadata": {
    "scrolled": true
   },
   "outputs": [
    {
     "data": {
      "text/plain": [
       "array([[1., 1., 1., 1., 1., 1., 1., 1., 1., 1.],\n",
       "       [1., 0., 1., 1., 0., 0., 0., 1., 0., 1.],\n",
       "       [1., 0., 1., 1., 0., 1., 0., 1., 0., 1.],\n",
       "       [1., 0., 1., 0., 0., 1., 1., 0., 0., 1.],\n",
       "       [1., 0., 1., 0., 1., 0., 1., 1., 0., 1.],\n",
       "       [1., 0., 0., 0., 1., 0., 0., 0., 0., 1.],\n",
       "       [1., 0., 1., 0., 0., 0., 1., 1., 0., 1.],\n",
       "       [1., 0., 1., 1., 1., 0., 1., 1., 0., 1.]])"
      ]
     },
     "execution_count": 2,
     "metadata": {},
     "output_type": "execute_result"
    }
   ],
   "source": [
    "import numpy as np\n",
    "\n",
    "\n",
    "\n",
    "maze = np.ones(shape=(8, 10))\n",
    "road = [[1, 1], [1, 4], [1, 5], [1, 6], [1, 8],\n",
    "        [2, 1], [2, 4], [2, 6], [2, 8],\n",
    "        [3, 1], [3, 3], [3, 4], [3, 7], [3, 8],\n",
    "        [4, 1], [4, 3], [4, 5], [4, 8],\n",
    "        [5, 1], [5, 2], [5, 3], [5, 5], [5, 6], [5, 7], [5, 8],\n",
    "        [6, 1], [6, 3], [6, 4], [6, 5], [6, 8],\n",
    "        [7, 1], [7, 5], [7, 8]]\n",
    "\n",
    "for pos in road:\n",
    "    i, j = pos\n",
    "    maze[i, j] = 0\n",
    "maze"
   ]
  },
  {
   "cell_type": "code",
   "execution_count": 3,
   "metadata": {},
   "outputs": [
    {
     "data": {
      "text/plain": [
       "array([[1., 1., 1., 1., 1., 1., 1., 1., 1., 1.],\n",
       "       [1., 2., 1., 1., 0., 0., 0., 1., 2., 1.],\n",
       "       [1., 2., 1., 1., 0., 1., 0., 1., 2., 1.],\n",
       "       [1., 2., 1., 0., 0., 1., 1., 3., 2., 1.],\n",
       "       [1., 2., 1., 0., 1., 0., 1., 1., 2., 1.],\n",
       "       [1., 2., 2., 2., 1., 2., 2., 2., 2., 1.],\n",
       "       [1., 3., 1., 2., 2., 2., 1., 1., 3., 1.],\n",
       "       [1., 3., 1., 1., 1., 3., 1., 1., 3., 1.]])"
      ]
     },
     "execution_count": 3,
     "metadata": {},
     "output_type": "execute_result"
    }
   ],
   "source": [
    "maze_runner(maze, (1, 1), (1, 8))\n",
    "maze"
   ]
  },
  {
   "cell_type": "code",
   "execution_count": 4,
   "metadata": {},
   "outputs": [
    {
     "data": {
      "image/png": "[encoded data removed]",
      "text/plain": [
       "<Figure size 360x288 with 1 Axes>"
      ]
     },
     "metadata": {
      "needs_background": "light"
     },
     "output_type": "display_data"
    }
   ],
   "source": [
    "import matplotlib.pyplot as plt\n",
    "from matplotlib.colors import ListedColormap\n",
    "\n",
    "colors = ListedColormap(['w', 'k', 'green', 'red'])\n",
    "plt.matshow(maze, cmap=colors)\n",
    "plt.show()\n",
    "\n"
   ]
  },
  {
   "cell_type": "code",
   "execution_count": null,
   "metadata": {},
   "outputs": [],
   "source": []
  }
 ],
 "metadata": {
  "kernelspec": {
   "display_name": "Python 3",
   "language": "python",
   "name": "python3"
  },
  "language_info": {
   "codemirror_mode": {
    "name": "ipython",
    "version": 3
   },
   "file_extension": ".py",
   "mimetype": "text/x-python",
   "name": "python",
   "nbconvert_exporter": "python",
   "pygments_lexer": "ipython3",
   "version": "3.8.3"
  }
 },
 "nbformat": 4,
 "nbformat_minor": 4
}
