{
 "cells": [
  {
   "cell_type": "code",
   "execution_count": 1,
   "metadata": {},
   "outputs": [
    {
     "name": "stdout",
     "output_type": "stream",
     "text": [
      "{(0, 1): 10, (0, 2): 20, (0, 4): 5, (1, 2): 10, (1, 3): 20, (1, 4): 4, (2, 3): 4, (3, 4): 20}\n"
     ]
    }
   ],
   "source": [
    "# 以dickionary的方式實作稀疏矩陣達到減少記憶體浪費，由於是無向圖\n",
    "# 這裡用 function my_graph 來做查詢graph邊的控制。\n",
    "\n",
    "INF = 1e+20 # 若無連線的通道權重設 INF\n",
    "\n",
    "def my_graph(i, j):\n",
    "    if (i, j) in graph:\n",
    "        return graph[(i, j)]\n",
    "    elif (j, i) in graph:\n",
    "        return graph[(j, i)]\n",
    "    else:\n",
    "        return INF\n",
    "\n",
    "    \n",
    "graph = {}\n",
    "spot = None    \n",
    "with open('graph.txt', 'r') as f:\n",
    "    n, m = f.readline().split(' ')\n",
    "    n, m = int(n), int(m)\n",
    "    spot = f.readline().split(' ')\n",
    "    spot = [int(s) for s in spot]\n",
    "    \n",
    "    for i in range(m):\n",
    "        i, j , w = [int(v) for v in f.readline().split(' ')]\n",
    "        graph[(i-1, j-1)] = w  # 索引值-1讓點從 index: 0開始\n",
    "print(graph)\n",
    "\n",
    "        \n"
   ]
  },
  {
   "cell_type": "code",
   "execution_count": 2,
   "metadata": {},
   "outputs": [
    {
     "name": "stdout",
     "output_type": "stream",
     "text": [
      "[10, 30, 40, 60, 69, 70, 71, 999]\n",
      "0\n"
     ]
    }
   ],
   "source": [
    "# 按照題目的要求讀取query資料\n",
    "s = None\n",
    "query = None\n",
    "with open('query.txt', 'r') as f:\n",
    "    s = int(f.readline())-1\n",
    "    query = [int(t) for t in f.readlines()]\n",
    "    \n",
    "print(query)\n",
    "        \n",
    "print(s)\n"
   ]
  },
  {
   "cell_type": "code",
   "execution_count": 3,
   "metadata": {},
   "outputs": [
    {
     "name": "stdout",
     "output_type": "stream",
     "text": [
      "t = 10: infeasible\n",
      "t = 30: infeasible\n",
      "t = 40: cycle [1, 2, 1] in time: 20+10+0+10=40\n",
      "t = 60: cycle [1, 5, 1] in time: 20+5+30+5=60\n",
      "t = 69: cycle [1, 5, 2, 1] in time: 20+5+30+4+0+10=69\n",
      "t = 70: cycle [1, 3, 2, 1] in time: 20+20+10+10+0+10=70\n",
      "t = 71: cycle [1, 3, 2, 1] in time: 20+20+10+10+0+10=70\n",
      "t = 999: cycle [1, 5, 4, 2, 3, 1] in time: 20+5+30+20+8+20+0+10+10+20=143\n"
     ]
    }
   ],
   "source": [
    "walked = [False]*n # 判斷該點是否經歷過\n",
    "path = [] # 儲存已走過的路線\n",
    "cycle = [] # 儲存確認會形成環的path\n",
    "\n",
    "# 以path去查詢該path總共花多少時間\n",
    "def path_time(path):\n",
    "    s = ''\n",
    "    t = 0\n",
    "    for i in range(len(path)-1):\n",
    "        t += spot[path[i]-1] #path的儲存index-1才是計算的index\n",
    "        s += '+'+str(spot[path[i]-1])\n",
    "        t += my_graph(path[i]-1, path[i+1]-1)\n",
    "        s += '+'+str(my_graph(path[i]-1, path[i+1]-1))\n",
    "    return t, s[1:] + '=' + str(t)\n",
    "        \n",
    "\n",
    "\n",
    "def sort_rule(x):\n",
    "    return x['time'], len(x['path'])\n",
    "\n",
    "\n",
    "# 以遞迴方式實作dfs，用dfs找出所有可以出發後又回到起點的環\n",
    "# 其中出了起點以外的點不可重複遍歷。\n",
    "def find_cycle(start, level):\n",
    "    \n",
    "    if level > 0:\n",
    "        walked[start] = True\n",
    "    path.append(start+1) # 加入路徑時 索引值+1 回復原圖索引值\n",
    "    if start == s and level > 0:\n",
    "        t, _ = path_time(path)\n",
    "        # print('t = %d: cycle %s' %(t, str(path)), end='\\n')\n",
    "        cycle.append({'path': path.copy(), 'time': t})\n",
    "    else:\n",
    "        for i in range(n):\n",
    "            if not walked[i] and my_graph(start, i) != INF:\n",
    "                find_cycle(i, level+1)\n",
    "                walked[i] = False\n",
    "                del path[-1]\n",
    "\n",
    "                \n",
    "                \n",
    "                \n",
    "find_cycle(s, 0)\n",
    "cycle.sort(key=sort_rule)\n",
    "        \n",
    "# 把環按照time由小到大排序後由後往前找出第一個time小於所需query的環          \n",
    "for time in query:\n",
    "    for i in range(len(cycle)-1, -2, -1):\n",
    "        if time >= cycle[i]['time']:\n",
    "            p = cycle[i]['path']\n",
    "            print('t = %d: cycle %s in time: %s' %(time, str(p), path_time(p)[-1]))\n",
    "            break\n",
    "        elif i < 0:\n",
    "            print('t = %d: infeasible' %(time))   "
   ]
  }
 ],
 "metadata": {
  "kernelspec": {
   "display_name": "Python 3",
   "language": "python",
   "name": "python3"
  },
  "language_info": {
   "codemirror_mode": {
    "name": "ipython",
    "version": 3
   },
   "file_extension": ".py",
   "mimetype": "text/x-python",
   "name": "python",
   "nbconvert_exporter": "python",
   "pygments_lexer": "ipython3",
   "version": "3.8.3"
  }
 },
 "nbformat": 4,
 "nbformat_minor": 4
}
